{
 "cells": [
  {
   "cell_type": "code",
   "id": "initial_id",
   "metadata": {
    "collapsed": true,
    "ExecuteTime": {
     "end_time": "2025-02-14T16:20:59.212555Z",
     "start_time": "2025-02-14T16:20:59.205730Z"
    }
   },
   "source": [
    "from otp_wrap import *\n",
    "from zoneinfo import ZoneInfo"
   ],
   "outputs": [],
   "execution_count": 3
  },
  {
   "metadata": {
    "ExecuteTime": {
     "end_time": "2025-02-14T16:21:00.672549Z",
     "start_time": "2025-02-14T16:21:00.084334Z"
    }
   },
   "cell_type": "code",
   "source": [
    "isochrone_data = get_otp_isochrone(\n",
    "    (49.7475, 13.3776),\n",
    "    [15, 30, 45],\n",
    "    datetime.now(tz=ZoneInfo(\"Europe/Prague\")),\n",
    "    modes=[\"TRANSIT\", \"WALK\"],\n",
    "    maxWalkDistance=1000\n",
    ")"
   ],
   "id": "b9bf980deb76c8c7",
   "outputs": [],
   "execution_count": 4
  },
  {
   "metadata": {
    "ExecuteTime": {
     "end_time": "2025-02-14T16:21:23.991391Z",
     "start_time": "2025-02-14T16:21:23.985498Z"
    }
   },
   "cell_type": "code",
   "source": "type(isochrone_data)",
   "id": "173fb964b72ca6af",
   "outputs": [
    {
     "data": {
      "text/plain": [
       "dict"
      ]
     },
     "execution_count": 7,
     "metadata": {},
     "output_type": "execute_result"
    }
   ],
   "execution_count": 7
  },
  {
   "metadata": {},
   "cell_type": "code",
   "outputs": [],
   "execution_count": null,
   "source": "",
   "id": "e6d75b28c791d428"
  }
 ],
 "metadata": {
  "kernelspec": {
   "display_name": "Python 3",
   "language": "python",
   "name": "python3"
  },
  "language_info": {
   "codemirror_mode": {
    "name": "ipython",
    "version": 2
   },
   "file_extension": ".py",
   "mimetype": "text/x-python",
   "name": "python",
   "nbconvert_exporter": "python",
   "pygments_lexer": "ipython2",
   "version": "2.7.6"
  }
 },
 "nbformat": 4,
 "nbformat_minor": 5
}
